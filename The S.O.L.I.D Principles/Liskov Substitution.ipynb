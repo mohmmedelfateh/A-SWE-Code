{
 "cells": [
  {
   "metadata": {},
   "cell_type": "markdown",
   "source": [
    "### Problem: Violating LSP\n",
    "\n",
    "In this example, Ostrich is a subclass of Bird, but it violates LSP because it cannot fly. Substituting Ostrich for Bird results in an exception, which breaks the program's expected behavior."
   ],
   "id": "85e0e51a10d1283f"
  },
  {
   "metadata": {
    "ExecuteTime": {
     "end_time": "2024-05-24T18:23:17.247409Z",
     "start_time": "2024-05-24T18:23:16.908174Z"
    }
   },
   "cell_type": "code",
   "source": [
    "class Bird:\n",
    "    def fly(self):\n",
    "        pass\n",
    "\n",
    "class Sparrow(Bird):\n",
    "    def fly(self):\n",
    "        print(\"Sparrow flying\")\n",
    "\n",
    "class Ostrich(Bird):\n",
    "    def fly(self):\n",
    "        raise Exception(\"Ostrich can't fly\")\n",
    "\n",
    "def make_bird_fly(bird):\n",
    "    bird.fly()\n",
    "\n",
    "# Using the Bird class\n",
    "sparrow = Sparrow()\n",
    "ostrich = Ostrich()\n",
    "\n",
    "make_bird_fly(sparrow)  # This works fine\n",
    "make_bird_fly(ostrich)  # This raises an exception"
   ],
   "id": "36cd8e0a27f94369",
   "outputs": [
    {
     "name": "stdout",
     "output_type": "stream",
     "text": [
      "Sparrow flying\n"
     ]
    },
    {
     "ename": "Exception",
     "evalue": "Ostrich can't fly",
     "output_type": "error",
     "traceback": [
      "\u001B[0;31m---------------------------------------------------------------------------\u001B[0m",
      "\u001B[0;31mException\u001B[0m                                 Traceback (most recent call last)",
      "Cell \u001B[0;32mIn[1], line 21\u001B[0m\n\u001B[1;32m     18\u001B[0m ostrich \u001B[38;5;241m=\u001B[39m Ostrich()\n\u001B[1;32m     20\u001B[0m make_bird_fly(sparrow)  \u001B[38;5;66;03m# This works fine\u001B[39;00m\n\u001B[0;32m---> 21\u001B[0m \u001B[43mmake_bird_fly\u001B[49m\u001B[43m(\u001B[49m\u001B[43mostrich\u001B[49m\u001B[43m)\u001B[49m  \u001B[38;5;66;03m# This raises an exception\u001B[39;00m\n",
      "Cell \u001B[0;32mIn[1], line 14\u001B[0m, in \u001B[0;36mmake_bird_fly\u001B[0;34m(bird)\u001B[0m\n\u001B[1;32m     13\u001B[0m \u001B[38;5;28;01mdef\u001B[39;00m \u001B[38;5;21mmake_bird_fly\u001B[39m(bird):\n\u001B[0;32m---> 14\u001B[0m     \u001B[43mbird\u001B[49m\u001B[38;5;241;43m.\u001B[39;49m\u001B[43mfly\u001B[49m\u001B[43m(\u001B[49m\u001B[43m)\u001B[49m\n",
      "Cell \u001B[0;32mIn[1], line 11\u001B[0m, in \u001B[0;36mOstrich.fly\u001B[0;34m(self)\u001B[0m\n\u001B[1;32m     10\u001B[0m \u001B[38;5;28;01mdef\u001B[39;00m \u001B[38;5;21mfly\u001B[39m(\u001B[38;5;28mself\u001B[39m):\n\u001B[0;32m---> 11\u001B[0m     \u001B[38;5;28;01mraise\u001B[39;00m \u001B[38;5;167;01mException\u001B[39;00m(\u001B[38;5;124m\"\u001B[39m\u001B[38;5;124mOstrich can\u001B[39m\u001B[38;5;124m'\u001B[39m\u001B[38;5;124mt fly\u001B[39m\u001B[38;5;124m\"\u001B[39m)\n",
      "\u001B[0;31mException\u001B[0m: Ostrich can't fly"
     ]
    }
   ],
   "execution_count": 1
  },
  {
   "metadata": {},
   "cell_type": "markdown",
   "source": [
    "### Solution: Adhering to LSP\n",
    "To adhere to LSP, we need to redesign the class hierarchy so that subclasses do not violate the expected behavior of the superclass. We can achieve this by creating a more appropriate hierarchy:\n",
    "\n",
    "* Bird Interface: Defines general bird behavior without assuming all birds can fly.\n",
    "* FlyingBird Class: Extends the Bird class and adds flying capability.\n",
    "* NonFlyingBird Class: Extends the Bird class without flying capability.\n"
   ],
   "id": "f04bfa54f2e4fb4c"
  },
  {
   "metadata": {
    "ExecuteTime": {
     "end_time": "2024-05-24T18:24:06.724140Z",
     "start_time": "2024-05-24T18:24:06.715453Z"
    }
   },
   "cell_type": "code",
   "source": [
    "from abc import ABC, abstractmethod\n",
    "\n",
    "# bird.py\n",
    "class Bird(ABC):\n",
    "    @abstractmethod\n",
    "    def move(self):\n",
    "        pass\n",
    "\n",
    "# flying_bird.py\n",
    "class FlyingBird(Bird):\n",
    "    @abstractmethod\n",
    "    def fly(self):\n",
    "        pass\n",
    "\n",
    "    def move(self):\n",
    "        self.fly()\n",
    "\n",
    "class Sparrow(FlyingBird):\n",
    "    def fly(self):\n",
    "        print(\"Sparrow flying\")\n",
    "\n",
    "# non_flying_bird.py\n",
    "class NonFlyingBird(Bird):\n",
    "    def move(self):\n",
    "        print(\"Walking\")\n",
    "\n",
    "class Ostrich(NonFlyingBird):\n",
    "    pass\n",
    "\n",
    "# main.py\n",
    "def make_bird_move(bird: Bird):\n",
    "    bird.move()\n",
    "\n",
    "if __name__ == \"__main__\":\n",
    "    sparrow = Sparrow()\n",
    "    ostrich = Ostrich()\n",
    "\n",
    "    make_bird_move(sparrow)  # This works fine\n",
    "    make_bird_move(ostrich)  # This works fine"
   ],
   "id": "e3d08ab60cc42150",
   "outputs": [
    {
     "name": "stdout",
     "output_type": "stream",
     "text": [
      "Sparrow flying\n",
      "Walking\n"
     ]
    }
   ],
   "execution_count": 2
  },
  {
   "metadata": {},
   "cell_type": "code",
   "outputs": [],
   "execution_count": null,
   "source": "",
   "id": "13b25e1d3e1e551e"
  }
 ],
 "metadata": {
  "kernelspec": {
   "display_name": "Python 3",
   "language": "python",
   "name": "python3"
  },
  "language_info": {
   "codemirror_mode": {
    "name": "ipython",
    "version": 2
   },
   "file_extension": ".py",
   "mimetype": "text/x-python",
   "name": "python",
   "nbconvert_exporter": "python",
   "pygments_lexer": "ipython2",
   "version": "2.7.6"
  }
 },
 "nbformat": 4,
 "nbformat_minor": 5
}
