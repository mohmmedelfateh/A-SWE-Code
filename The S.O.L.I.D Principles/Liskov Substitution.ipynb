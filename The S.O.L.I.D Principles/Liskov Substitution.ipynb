{
 "cells": [
  {
   "cell_type": "markdown",
   "id": "85e0e51a10d1283f",
   "metadata": {},
   "source": [
    "### Problem: Violating LSP\n",
    "\n",
    "In this example, Ostrich is a subclass of Bird, but it violates LSP because it cannot fly. Substituting Ostrich for Bird results in an exception, which breaks the program's expected behavior."
   ]
  },
  {
   "cell_type": "code",
   "execution_count": null,
   "id": "36cd8e0a27f94369",
   "metadata": {
    "ExecuteTime": {
     "end_time": "2024-05-24T18:23:17.247409Z",
     "start_time": "2024-05-24T18:23:16.908174Z"
    }
   },
   "outputs": [],
   "source": [
    "class Rectangle:\n",
    "    def _init_(self, width, height):\n",
    "        self.width = width\n",
    "        self.height = height\n",
    "\n",
    "    def set_width(self, width):\n",
    "        self.width = width\n",
    "\n",
    "    def set_height(self, height):\n",
    "        self.height = height\n",
    "\n",
    "    def area(self):\n",
    "        return self.width * self.height\n",
    "\n",
    "\n",
    "class Square(Rectangle):\n",
    "    def _init_(self, side):\n",
    "        self.side = side\n",
    "        super()._init_(side, side)\n",
    "\n",
    "    def set_width(self, width):\n",
    "        self.side = width\n",
    "        super().set_width(width)\n",
    "        super().set_height(width)\n",
    "\n",
    "    def set_height(self, height):\n",
    "        self.side = height\n",
    "        super().set_width(height)\n",
    "        super().set_height(height)\n",
    "\n",
    "\n",
    "# Testing the Rectangle class\n",
    "rect = Rectangle(3, 4)\n",
    "print(\"Rectangle area:\", rect.area())  # Output: Rectangle area: 12\n",
    "\n",
    "rect.set_width(5)\n",
    "rect.set_height(6)\n",
    "print(\"Updated rectangle area:\", rect.area())  # Output: Updated rectangle area: 30\n",
    "\n",
    "# Testing the Square class\n",
    "square = Square(4)\n",
    "print(\"Square area:\", square.area())  # Output: Square area: 16\n",
    "\n",
    "square.set_width(5)\n",
    "print(\"Updated square area after setting width:\", square.area())  # Output: Updated square area after setting width: 25\n",
    "\n",
    "square.set_height(6)\n",
    "print(\"Updated square area after setting height:\", square.area())  # Output: Updated square area after setting height: 36"
   ]
  },
  {
   "cell_type": "markdown",
   "id": "f04bfa54f2e4fb4c",
   "metadata": {},
   "source": [
    "### Solution: Adhering to LSP\n",
    "To adhere to LSP, we need to redesign the class hierarchy so that subclasses do not violate the expected behavior of the superclass. We can achieve this by creating a more appropriate hierarchy:\n",
    "\n",
    "* Initialization: Fixed the __init__ method names by using double underscores.\n",
    "* Square Class: The Square class no longer inherits from Rectangle. Instead, it has its own side attribute and methods.\n",
    "* Method Consistency: The Square class uses a set_side method to set its side length, ensuring that its behavior remains consistent with that of a square.\n"
   ]
  },
  {
   "cell_type": "code",
   "execution_count": null,
   "id": "e3d08ab60cc42150",
   "metadata": {
    "ExecuteTime": {
     "end_time": "2024-05-24T18:24:06.724140Z",
     "start_time": "2024-05-24T18:24:06.715453Z"
    }
   },
   "outputs": [],
   "source": [
    "class Shape:\n",
    "    def area(self):\n",
    "        pass\n",
    "\n",
    "\n",
    "class Rectangle(Shape):\n",
    "    def _init_(self, width, height):\n",
    "        self.width = width\n",
    "        self.height = height\n",
    "\n",
    "    def area(self):\n",
    "        return self.width * self.height\n",
    "\n",
    "\n",
    "class Square(Shape):\n",
    "    def _init_(self, side):\n",
    "        self.side = side\n",
    "\n",
    "    def area(self):\n",
    "        return self.side * self.side\n",
    "\n",
    "\n",
    "# Testing the classes\n",
    "rect = Rectangle(3, 4)\n",
    "print(\"Rectangle area:\", rect.area())  # Output: Rectangle area: 12\n",
    "\n",
    "square = Square(4)\n",
    "print(\"Square area:\", square.area())  # Output: Square area: 16"
   ]
  }
 ],
 "metadata": {
  "kernelspec": {
   "display_name": "Python 3",
   "language": "python",
   "name": "python3"
  },
  "language_info": {
   "codemirror_mode": {
    "name": "ipython",
    "version": 2
   },
   "file_extension": ".py",
   "mimetype": "text/x-python",
   "name": "python",
   "nbconvert_exporter": "python",
   "pygments_lexer": "ipython2",
   "version": "2.7.6"
  }
 },
 "nbformat": 4,
 "nbformat_minor": 5
}
