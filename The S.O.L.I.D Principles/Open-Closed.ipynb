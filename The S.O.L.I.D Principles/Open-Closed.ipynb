{
 "cells": [
  {
   "metadata": {},
   "cell_type": "markdown",
   "source": [
    "### Problem: Violating OCP\n",
    "\n",
    "In this example, the AreaCalculator class needs to be modified every time a new shape is added, violating the Open/Closed Principle."
   ],
   "id": "915ebd72061cfc7a"
  },
  {
   "metadata": {
    "ExecuteTime": {
     "end_time": "2024-05-24T18:19:43.100230Z",
     "start_time": "2024-05-24T18:19:43.087745Z"
    }
   },
   "cell_type": "code",
   "source": [
    "class AreaCalculator:\n",
    "    def calculate_area(self, shapes):\n",
    "        total_area = 0\n",
    "        for shape in shapes:\n",
    "            if isinstance(shape, Rectangle):\n",
    "                total_area += shape.width * shape.height\n",
    "            elif isinstance(shape, Circle):\n",
    "                total_area += 3.14 * (shape.radius ** 2)\n",
    "        return total_area\n",
    "\n",
    "class Rectangle:\n",
    "    def __init__(self, width, height):\n",
    "        self.width = width\n",
    "        self.height = height\n",
    "\n",
    "class Circle:\n",
    "    def __init__(self, radius):\n",
    "        self.radius = radius\n",
    "\n",
    "# Using the AreaCalculator\n",
    "shapes = [Rectangle(2, 3), Circle(5)]\n",
    "calculator = AreaCalculator()\n",
    "print(\"Total Area:\", calculator.calculate_area(shapes))"
   ],
   "id": "c947cc712b1a3054",
   "outputs": [
    {
     "name": "stdout",
     "output_type": "stream",
     "text": [
      "Total Area: 84.5\n"
     ]
    }
   ],
   "execution_count": 1
  },
  {
   "metadata": {},
   "cell_type": "markdown",
   "source": [
    "### Solution: Adhering to OCP\n",
    "To adhere to OCP, we should design the system so that it can be extended without modifying existing code. We can achieve this by using polymorphism.\n",
    "\n",
    "* Shape Interface: An interface for all shapes.\n",
    "* Concrete Shape Classes: Implementing the interface for each shape.\n",
    "* AreaCalculator Class: Uses the interface to calculate the area."
   ],
   "id": "eb21aa2a5bbe15a6"
  },
  {
   "metadata": {
    "ExecuteTime": {
     "end_time": "2024-05-24T18:20:41.211369Z",
     "start_time": "2024-05-24T18:20:41.204628Z"
    }
   },
   "cell_type": "code",
   "source": [
    "from abc import ABC, abstractmethod\n",
    "\n",
    "class Shape(ABC):\n",
    "    @abstractmethod\n",
    "    def area(self):\n",
    "        pass\n",
    "\n",
    "class Rectangle(Shape):\n",
    "    def __init__(self, width, height):\n",
    "        self.width = width\n",
    "        self.height = height\n",
    "\n",
    "    def area(self):\n",
    "        return self.width * self.height\n",
    "\n",
    "class Circle(Shape):\n",
    "    def __init__(self, radius):\n",
    "        self.radius = radius\n",
    "\n",
    "    def area(self):\n",
    "        return 3.14 * (self.radius ** 2)\n",
    "\n",
    "class AreaCalculator:\n",
    "    def calculate_area(self, shapes):\n",
    "        total_area = 0\n",
    "        for shape in shapes:\n",
    "            total_area += shape.area()\n",
    "        return total_area\n",
    "\n",
    "if __name__ == \"__main__\":\n",
    "    shapes = [Rectangle(2, 3), Circle(5)]\n",
    "    calculator = AreaCalculator()\n",
    "    print(\"Total Area:\", calculator.calculate_area(shapes))\n"
   ],
   "id": "bc7f3d5b6107441b",
   "outputs": [
    {
     "name": "stdout",
     "output_type": "stream",
     "text": [
      "Total Area: 84.5\n"
     ]
    }
   ],
   "execution_count": 2
  }
 ],
 "metadata": {
  "kernelspec": {
   "display_name": "Python 3",
   "language": "python",
   "name": "python3"
  },
  "language_info": {
   "codemirror_mode": {
    "name": "ipython",
    "version": 2
   },
   "file_extension": ".py",
   "mimetype": "text/x-python",
   "name": "python",
   "nbconvert_exporter": "python",
   "pygments_lexer": "ipython2",
   "version": "2.7.6"
  }
 },
 "nbformat": 4,
 "nbformat_minor": 5
}
