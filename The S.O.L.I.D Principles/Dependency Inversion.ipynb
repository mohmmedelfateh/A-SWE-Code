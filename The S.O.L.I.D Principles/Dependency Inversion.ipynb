{
 "cells": [
  {
   "metadata": {},
   "cell_type": "markdown",
   "source": [
    "### Problem: Violating DIP\n",
    "In this example, the Switch class depends directly on the LightBulb class. If we need to change the type of the bulb, we have to modify the Switch class, which violates DIP."
   ],
   "id": "f050cf974caf7387"
  },
  {
   "metadata": {
    "ExecuteTime": {
     "end_time": "2024-05-24T18:27:40.240528Z",
     "start_time": "2024-05-24T18:27:40.230771Z"
    }
   },
   "cell_type": "code",
   "source": [
    "class LightBulb:\n",
    "    def turn_on(self):\n",
    "        print(\"LightBulb: turned on\")\n",
    "\n",
    "    def turn_off(self):\n",
    "        print(\"LightBulb: turned off\")\n",
    "\n",
    "class Switch:\n",
    "    def __init__(self, bulb: LightBulb):\n",
    "        self.bulb = bulb\n",
    "\n",
    "    def operate(self, on: bool):\n",
    "        if on:\n",
    "            self.bulb.turn_on()\n",
    "        else:\n",
    "            self.bulb.turn_off()\n",
    "\n",
    "# Using the Switch and LightBulb classes\n",
    "bulb = LightBulb()\n",
    "switch = Switch(bulb)\n",
    "switch.operate(True)  # Turns on the bulb\n",
    "switch.operate(False)  # Turns off the bulb"
   ],
   "id": "17c096ef2a794c75",
   "outputs": [
    {
     "name": "stdout",
     "output_type": "stream",
     "text": [
      "LightBulb: turned on\n",
      "LightBulb: turned off\n"
     ]
    }
   ],
   "execution_count": 1
  },
  {
   "metadata": {},
   "cell_type": "markdown",
   "source": [
    "### Solution: Adhering to DIP\n",
    "To adhere to DIP, we should depend on abstractions (interfaces or abstract classes) rather than concrete implementations:\n",
    "\n",
    "Switchable Interface: Defines an abstraction for switchable devices.\n",
    "LightBulb Class: Implements the Switchable interface.\n",
    "Switch Class: Depends on the Switchable interface rather than a concrete class.\n"
   ],
   "id": "1924370cfab3e9dd"
  },
  {
   "metadata": {
    "ExecuteTime": {
     "end_time": "2024-05-24T18:28:30.444385Z",
     "start_time": "2024-05-24T18:28:30.434602Z"
    }
   },
   "cell_type": "code",
   "source": [
    "from abc import ABC, abstractmethod\n",
    "\n",
    "# switchable.py\n",
    "class Switchable(ABC):\n",
    "    @abstractmethod\n",
    "    def turn_on(self):\n",
    "        pass\n",
    "\n",
    "    @abstractmethod\n",
    "    def turn_off(self):\n",
    "        pass\n",
    "\n",
    "# light_bulb.py\n",
    "class LightBulb(Switchable):\n",
    "    def turn_on(self):\n",
    "        print(\"LightBulb: turned on\")\n",
    "\n",
    "    def turn_off(self):\n",
    "        print(\"LightBulb: turned off\")\n",
    "\n",
    "# fan.py\n",
    "class Fan(Switchable):\n",
    "    def turn_on(self):\n",
    "        print(\"Fan: turned on\")\n",
    "\n",
    "    def turn_off(self):\n",
    "        print(\"Fan: turned off\")\n",
    "\n",
    "# switch.py\n",
    "class Switch:\n",
    "    def __init__(self, device: Switchable):\n",
    "        self.device = device\n",
    "\n",
    "    def operate(self, on: bool):\n",
    "        if on:\n",
    "            self.device.turn_on()\n",
    "        else:\n",
    "            self.device.turn_off()\n",
    "\n",
    "# main.py\n",
    "if __name__ == \"__main__\":\n",
    "    bulb = LightBulb()\n",
    "    fan = Fan()\n",
    "\n",
    "    switch = Switch(bulb)\n",
    "    switch.operate(True)  # Turns on the light bulb\n",
    "    switch.operate(False)  # Turns off the light bulb\n",
    "\n",
    "    switch.device = fan\n",
    "    switch.operate(True)  # Turns on the fan\n",
    "    switch.operate(False)  # Turns off the fan\n"
   ],
   "id": "20e22ec334b69fac",
   "outputs": [
    {
     "name": "stdout",
     "output_type": "stream",
     "text": [
      "LightBulb: turned on\n",
      "LightBulb: turned off\n",
      "Fan: turned on\n",
      "Fan: turned off\n"
     ]
    }
   ],
   "execution_count": 2
  },
  {
   "metadata": {},
   "cell_type": "code",
   "outputs": [],
   "execution_count": null,
   "source": "",
   "id": "9f97e8db08bd5068"
  }
 ],
 "metadata": {
  "kernelspec": {
   "display_name": "Python 3",
   "language": "python",
   "name": "python3"
  },
  "language_info": {
   "codemirror_mode": {
    "name": "ipython",
    "version": 2
   },
   "file_extension": ".py",
   "mimetype": "text/x-python",
   "name": "python",
   "nbconvert_exporter": "python",
   "pygments_lexer": "ipython2",
   "version": "2.7.6"
  }
 },
 "nbformat": 4,
 "nbformat_minor": 5
}
