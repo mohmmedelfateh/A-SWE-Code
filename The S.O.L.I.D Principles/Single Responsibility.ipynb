{
 "cells": [
  {
   "metadata": {},
   "cell_type": "markdown",
   "source": [
    "### Problem: Violating SRP\n",
    "\n",
    "In this example, the User class has two responsibilities:\n",
    "1. Saving user data to the database.\n",
    "2. Sending a welcome email to the user."
   ],
   "id": "7363e99b2320bd04"
  },
  {
   "metadata": {
    "ExecuteTime": {
     "end_time": "2024-05-24T18:10:53.040594Z",
     "start_time": "2024-05-24T18:10:53.032382Z"
    }
   },
   "cell_type": "code",
   "source": [
    "class User:\n",
    "    def __init__(self, username, email):\n",
    "        self.username = username\n",
    "        self.email = email\n",
    "\n",
    "    def save_to_database(self):\n",
    "        # Simulate saving user to a database\n",
    "        print(f\"Saving user {self.username} to the database\")\n",
    "\n",
    "    def send_welcome_email(self):\n",
    "        # Simulate sending an email\n",
    "        print(f\"Sending welcome email to {self.email}\")\n",
    "\n",
    "# Using the User class\n",
    "user = User(\"john_doe\", \"john@example.com\")\n",
    "user.save_to_database()\n",
    "user.send_welcome_email()"
   ],
   "id": "7b7034c50aa32e89",
   "outputs": [
    {
     "name": "stdout",
     "output_type": "stream",
     "text": [
      "Saving user john_doe to the database\n",
      "Sending welcome email to john@example.com\n"
     ]
    }
   ],
   "execution_count": 1
  },
  {
   "metadata": {},
   "cell_type": "markdown",
   "source": [
    "### Solution: Adhering to SRP\n",
    "\n",
    "To adhere to SRP, we should separate these responsibilities into different classes. Each class will have a single responsibility.\n",
    "\n",
    "* User Class: Responsible for user data.\n",
    "* UserRepository Class: Responsible for database operations related to the user.\n",
    "* EmailService Class: Responsible for sending emails.\n"
   ],
   "id": "fd434295bd6c0830"
  },
  {
   "metadata": {
    "ExecuteTime": {
     "end_time": "2024-05-24T18:14:36.038687Z",
     "start_time": "2024-05-24T18:14:36.032066Z"
    }
   },
   "cell_type": "code",
   "source": [
    "# user.py\n",
    "class User:\n",
    "    def __init__(self, username, email):\n",
    "        self.username = username\n",
    "        self.email = email\n",
    "\n",
    "# user_repository.py\n",
    "class UserRepository:\n",
    "    def save(self, user):\n",
    "        # Simulate saving user to a database\n",
    "        print(f\"Saving user {user.username} to the database\")\n",
    "\n",
    "# email_service.py\n",
    "class EmailService:\n",
    "    def send_welcome_email(self, user):\n",
    "        # Simulate sending an email\n",
    "        print(f\"Sending welcome email to {user.email}\")\n",
    "\n",
    "if __name__ == \"__main__\":\n",
    "    user = User(\"john_doe\", \"john@example.com\")\n",
    "    \n",
    "    user_repository = UserRepository()\n",
    "    user_repository.save(user)\n",
    "    \n",
    "    email_service = EmailService()\n",
    "    email_service.send_welcome_email(user)"
   ],
   "id": "9008c0cc567c31d2",
   "outputs": [
    {
     "name": "stdout",
     "output_type": "stream",
     "text": [
      "Saving user john_doe to the database\n",
      "Sending welcome email to john@example.com\n"
     ]
    }
   ],
   "execution_count": 2
  }
 ],
 "metadata": {
  "kernelspec": {
   "display_name": "Python 3",
   "language": "python",
   "name": "python3"
  },
  "language_info": {
   "codemirror_mode": {
    "name": "ipython",
    "version": 2
   },
   "file_extension": ".py",
   "mimetype": "text/x-python",
   "name": "python",
   "nbconvert_exporter": "python",
   "pygments_lexer": "ipython2",
   "version": "2.7.6"
  }
 },
 "nbformat": 4,
 "nbformat_minor": 5
}
