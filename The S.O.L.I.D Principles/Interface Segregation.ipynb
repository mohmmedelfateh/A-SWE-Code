{
 "cells": [
  {
   "metadata": {},
   "cell_type": "markdown",
   "source": [
    "### Problem: Violating ISP\n",
    "\n",
    "In this example, the RobotWorker class is forced to implement the eat method, which it does not need, violating the Interface Segregation Principle."
   ],
   "id": "8f17259e9486014c"
  },
  {
   "metadata": {
    "ExecuteTime": {
     "end_time": "2024-05-24T18:25:02.390775Z",
     "start_time": "2024-05-24T18:25:02.383552Z"
    }
   },
   "cell_type": "code",
   "source": [
    "class Worker:\n",
    "    def work(self):\n",
    "        pass\n",
    "\n",
    "    def eat(self):\n",
    "        pass\n",
    "\n",
    "class HumanWorker(Worker):\n",
    "    def work(self):\n",
    "        print(\"Human working\")\n",
    "\n",
    "    def eat(self):\n",
    "        print(\"Human eating\")\n",
    "\n",
    "class RobotWorker(Worker):\n",
    "    def work(self):\n",
    "        print(\"Robot working\")\n",
    "\n",
    "    def eat(self):\n",
    "        raise Exception(\"Robot can't eat\")"
   ],
   "id": "ebbf3955aa00feb9",
   "outputs": [],
   "execution_count": 1
  },
  {
   "metadata": {},
   "cell_type": "markdown",
   "source": [
    "### Solution: Adhering to ISP\n",
    "To adhere to ISP, we should create smaller, more specific interfaces:\n",
    "\n",
    "* Worker Interface: Defines a general worker interface.\n",
    "* Eater Interface: Defines an interface for entities that can eat.\n",
    "* HumanWorker Class: Implements both Worker and Eater interfaces.\n",
    "* RobotWorker Class: Implements only the Worker interface.\n"
   ],
   "id": "481352b09eb3c361"
  },
  {
   "metadata": {
    "ExecuteTime": {
     "end_time": "2024-05-24T18:26:22.447244Z",
     "start_time": "2024-05-24T18:26:22.439245Z"
    }
   },
   "cell_type": "code",
   "source": [
    "from abc import ABC, abstractmethod\n",
    "\n",
    "# worker.py\n",
    "class Worker(ABC):\n",
    "    @abstractmethod\n",
    "    def work(self):\n",
    "        pass\n",
    "\n",
    "# eater.py\n",
    "class Eater(ABC):\n",
    "    @abstractmethod\n",
    "    def eat(self):\n",
    "        pass\n",
    "\n",
    "# human_worker.py\n",
    "class HumanWorker(Worker, Eater):\n",
    "    def work(self):\n",
    "        print(\"Human working\")\n",
    "\n",
    "    def eat(self):\n",
    "        print(\"Human eating\")\n",
    "\n",
    "# robot_worker.py\n",
    "class RobotWorker(Worker):\n",
    "    def work(self):\n",
    "        print(\"Robot working\")\n",
    "\n",
    "# main.py\n",
    "if __name__ == \"__main__\":\n",
    "    human = HumanWorker()\n",
    "    robot = RobotWorker()\n",
    "\n",
    "    human.work()\n",
    "    human.eat()\n",
    "\n",
    "    robot.work()\n",
    "    # robot.eat()  # This line would raise an error if uncommented"
   ],
   "id": "fe2b75592cd4afa9",
   "outputs": [
    {
     "name": "stdout",
     "output_type": "stream",
     "text": [
      "Human working\n",
      "Human eating\n",
      "Robot working\n"
     ]
    }
   ],
   "execution_count": 4
  },
  {
   "metadata": {},
   "cell_type": "code",
   "outputs": [],
   "execution_count": null,
   "source": "",
   "id": "e8ecb8d82cfdc0a9"
  }
 ],
 "metadata": {
  "kernelspec": {
   "display_name": "Python 3",
   "language": "python",
   "name": "python3"
  },
  "language_info": {
   "codemirror_mode": {
    "name": "ipython",
    "version": 2
   },
   "file_extension": ".py",
   "mimetype": "text/x-python",
   "name": "python",
   "nbconvert_exporter": "python",
   "pygments_lexer": "ipython2",
   "version": "2.7.6"
  }
 },
 "nbformat": 4,
 "nbformat_minor": 5
}
